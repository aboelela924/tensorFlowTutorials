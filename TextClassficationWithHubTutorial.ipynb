{
  "nbformat": 4,
  "nbformat_minor": 0,
  "metadata": {
    "colab": {
      "name": "TextClassficationWithHubTutorial.ipynb",
      "provenance": [],
      "authorship_tag": "ABX9TyMHh5bJfF5YWbbcAAxzAtN3",
      "include_colab_link": true
    },
    "kernelspec": {
      "name": "python3",
      "display_name": "Python 3"
    },
    "accelerator": "GPU"
  },
  "cells": [
    {
      "cell_type": "markdown",
      "metadata": {
        "id": "view-in-github",
        "colab_type": "text"
      },
      "source": [
        "<a href=\"https://colab.research.google.com/github/aboelela924/tensorFlowTutorials/blob/master/TextClassficationWithHubTutorial.ipynb\" target=\"_parent\"><img src=\"https://colab.research.google.com/assets/colab-badge.svg\" alt=\"Open In Colab\"/></a>"
      ]
    },
    {
      "cell_type": "code",
      "metadata": {
        "id": "djz_ojmlITW2",
        "colab_type": "code",
        "colab": {}
      },
      "source": [
        "##links \n",
        "embedding = \"https://tfhub.dev/google/tf2-preview/gnews-swivel-20dim/1\""
      ],
      "execution_count": null,
      "outputs": []
    },
    {
      "cell_type": "code",
      "metadata": {
        "id": "o6jmVRgRKbaf",
        "colab_type": "code",
        "colab": {}
      },
      "source": [
        "!pip install tfds-nightly\n",
        "!pip install tensorflow-hub"
      ],
      "execution_count": null,
      "outputs": []
    },
    {
      "cell_type": "code",
      "metadata": {
        "id": "84uPLSGBKWjK",
        "colab_type": "code",
        "colab": {}
      },
      "source": [
        "import numpy as np \n",
        "import tensorflow as tf \n",
        "import tensorflow_datasets as tfds\n",
        "import tensorflow_hub as tfhub"
      ],
      "execution_count": 3,
      "outputs": []
    },
    {
      "cell_type": "code",
      "metadata": {
        "id": "Ji4cNcVxKsH2",
        "colab_type": "code",
        "colab": {
          "base_uri": "https://localhost:8080/",
          "height": 83
        },
        "outputId": "cc4cd4a8-b8a6-4662-a6aa-22b018d3e487"
      },
      "source": [
        "print(f\"Tensorflow version: {tf.__version__}\")\n",
        "print(f\"Eager mode: {tf.executing_eagerly()}\")\n",
        "print(f\"Hub version: {tfhub.__version__}\")\n",
        "print(f\"Do we have GPU? {'Yes' if tf.config.experimental.list_physical_devices('GPU') else 'No'}\")"
      ],
      "execution_count": 11,
      "outputs": [
        {
          "output_type": "stream",
          "text": [
            "Tensorflow version: 2.2.0\n",
            "Eager mode: True\n",
            "Hub version: 0.8.0\n",
            "Do we have GPU? Yes\n"
          ],
          "name": "stdout"
        }
      ]
    },
    {
      "cell_type": "code",
      "metadata": {
        "id": "9ROUeYBDbkPQ",
        "colab_type": "code",
        "colab": {}
      },
      "source": [
        "BATCH_SIZE = 128"
      ],
      "execution_count": 67,
      "outputs": []
    },
    {
      "cell_type": "code",
      "metadata": {
        "id": "Xn-xThU1MGEl",
        "colab_type": "code",
        "colab": {}
      },
      "source": [
        "ds_train, train_info = tfds.load(\"imdb_reviews\", split=\"train\", data_dir=\"/content/data\", \n",
        "               batch_size=BATCH_SIZE, shuffle_files=True, as_supervised=True, \n",
        "               with_info=True)\n",
        "\n",
        "ds_test, test_info = tfds.load(\"imdb_reviews\", split=\"test\", data_dir=\"/content/data\", \n",
        "               batch_size=BATCH_SIZE, shuffle_files=True, as_supervised=True, \n",
        "               with_info=True)\n",
        "\n",
        "ds_train = ds_train.repeat()"
      ],
      "execution_count": 76,
      "outputs": []
    },
    {
      "cell_type": "code",
      "metadata": {
        "id": "JsrED8rKbO_W",
        "colab_type": "code",
        "colab": {}
      },
      "source": [
        "num_of_train_samples = train_info.splits[\"train\"].num_examples\n",
        "num_of_test_samples = train_info.splits[\"test\"].num_examples\n",
        "steps_per_epoch =  num_of_train_samples//num_of_train_samples"
      ],
      "execution_count": 69,
      "outputs": []
    },
    {
      "cell_type": "code",
      "metadata": {
        "id": "AUqYHxD9Rzws",
        "colab_type": "code",
        "colab": {}
      },
      "source": [
        "classes_names = [\"Negative\", \"Positive\"]"
      ],
      "execution_count": 61,
      "outputs": []
    },
    {
      "cell_type": "code",
      "metadata": {
        "id": "Ec88ZE78NDKa",
        "colab_type": "code",
        "colab": {
          "base_uri": "https://localhost:8080/",
          "height": 70
        },
        "outputId": "443764cb-1313-4cd0-d5e1-5c2564c324b8"
      },
      "source": [
        "sample_text, sample_labels = next(iter(ds_train))\n",
        "print(sample_text[0])\n",
        "print(classes_names[sample_labels[0]])"
      ],
      "execution_count": 70,
      "outputs": [
        {
          "output_type": "stream",
          "text": [
            "tf.Tensor(b\"This was an absolutely terrible movie. Don't be lured in by Christopher Walken or Michael Ironside. Both are great actors, but this must simply be their worst role in history. Even their great acting could not redeem this movie's ridiculous storyline. This movie is an early nineties US propaganda piece. The most pathetic scenes were those when the Columbian rebels were making their cases for revolutions. Maria Conchita Alonso appeared phony, and her pseudo-love affair with Walken was nothing but a pathetic emotional plug in a movie that was devoid of any real meaning. I am disappointed that there are movies like this, ruining actor's like Christopher Walken's good name. I could barely sit through it.\", shape=(), dtype=string)\n",
            "Negative\n"
          ],
          "name": "stdout"
        }
      ]
    },
    {
      "cell_type": "code",
      "metadata": {
        "id": "Yl_X6jXPbMDo",
        "colab_type": "code",
        "colab": {}
      },
      "source": [
        "print(train_info)"
      ],
      "execution_count": null,
      "outputs": []
    },
    {
      "cell_type": "code",
      "metadata": {
        "id": "aDEdU_DRRY_y",
        "colab_type": "code",
        "colab": {}
      },
      "source": [
        "embedding_model = \"https://tfhub.dev/google/tf2-preview/gnews-swivel-20dim/1\"\n",
        "hub_embedding_layer = tfhub.KerasLayer(embedding_model, trainable=True,\n",
        "                                       output_shape=[20], input_shape=[],\n",
        "                                       dtype=tf.string)\n"
      ],
      "execution_count": 71,
      "outputs": []
    },
    {
      "cell_type": "code",
      "metadata": {
        "id": "-vHTvbxjT1vQ",
        "colab_type": "code",
        "colab": {
          "base_uri": "https://localhost:8080/",
          "height": 350
        },
        "outputId": "b2de1643-c6b5-4d21-8cc7-740711b7a310"
      },
      "source": [
        "model = tf.keras.Sequential([\n",
        "                             hub_embedding_layer,\n",
        "                             tf.keras.layers.Reshape((20, 1)),\n",
        "                             tf.keras.layers.LSTM(20),\n",
        "                             tf.keras.layers.Dropout(0.5),\n",
        "                             tf.keras.layers.Dense(12, activation=\"relu\"),\n",
        "                             tf.keras.layers.Dense(1, activation=\"sigmoid\")])\n",
        "model.summary()"
      ],
      "execution_count": 93,
      "outputs": [
        {
          "output_type": "stream",
          "text": [
            "Model: \"sequential_6\"\n",
            "_________________________________________________________________\n",
            "Layer (type)                 Output Shape              Param #   \n",
            "=================================================================\n",
            "keras_layer_2 (KerasLayer)   (None, 20)                400020    \n",
            "_________________________________________________________________\n",
            "reshape_4 (Reshape)          (None, 20, 1)             0         \n",
            "_________________________________________________________________\n",
            "lstm_6 (LSTM)                (None, 20)                1760      \n",
            "_________________________________________________________________\n",
            "dropout_3 (Dropout)          (None, 20)                0         \n",
            "_________________________________________________________________\n",
            "dense_12 (Dense)             (None, 12)                252       \n",
            "_________________________________________________________________\n",
            "dense_13 (Dense)             (None, 1)                 13        \n",
            "=================================================================\n",
            "Total params: 402,045\n",
            "Trainable params: 402,045\n",
            "Non-trainable params: 0\n",
            "_________________________________________________________________\n"
          ],
          "name": "stdout"
        }
      ]
    },
    {
      "cell_type": "code",
      "metadata": {
        "id": "uP7R52dOaVJm",
        "colab_type": "code",
        "colab": {}
      },
      "source": [
        "model.compile(optimizer=\"adam\",\n",
        "              loss=tf.losses.BinaryCrossentropy(from_logits=True),\n",
        "              metrics=[\"accuracy\"])"
      ],
      "execution_count": 94,
      "outputs": []
    },
    {
      "cell_type": "code",
      "metadata": {
        "id": "A_w3TnnCUTue",
        "colab_type": "code",
        "colab": {
          "base_uri": "https://localhost:8080/",
          "height": 1000
        },
        "outputId": "cbf1fee8-a1a0-42b3-f3a2-1b2c704ec02e"
      },
      "source": [
        "model.fit_generator(ds_train, steps_per_epoch=steps_per_epoch, epochs=200, \n",
        "                    verbose=2, validation_data=ds_test, validation_steps=30)"
      ],
      "execution_count": 95,
      "outputs": [
        {
          "output_type": "stream",
          "text": [
            "Epoch 1/200\n",
            "1/1 - 1s - loss: 0.7162 - accuracy: 0.4922 - val_loss: 0.7219 - val_accuracy: 0.4961\n",
            "Epoch 2/200\n",
            "1/1 - 0s - loss: 0.7342 - accuracy: 0.4688 - val_loss: 0.7217 - val_accuracy: 0.4969\n",
            "Epoch 3/200\n",
            "1/1 - 0s - loss: 0.7077 - accuracy: 0.4766 - val_loss: 0.7216 - val_accuracy: 0.4971\n",
            "Epoch 4/200\n",
            "1/1 - 0s - loss: 0.7349 - accuracy: 0.4766 - val_loss: 0.7214 - val_accuracy: 0.4971\n",
            "Epoch 5/200\n",
            "1/1 - 0s - loss: 0.6773 - accuracy: 0.4766 - val_loss: 0.7212 - val_accuracy: 0.4971\n",
            "Epoch 6/200\n",
            "1/1 - 0s - loss: 0.7137 - accuracy: 0.5156 - val_loss: 0.7210 - val_accuracy: 0.4971\n",
            "Epoch 7/200\n",
            "1/1 - 0s - loss: 0.7312 - accuracy: 0.5078 - val_loss: 0.7208 - val_accuracy: 0.4971\n",
            "Epoch 8/200\n",
            "1/1 - 0s - loss: 0.7213 - accuracy: 0.5391 - val_loss: 0.7206 - val_accuracy: 0.4971\n",
            "Epoch 9/200\n",
            "1/1 - 0s - loss: 0.7367 - accuracy: 0.5234 - val_loss: 0.7204 - val_accuracy: 0.4971\n",
            "Epoch 10/200\n",
            "1/1 - 0s - loss: 0.7352 - accuracy: 0.5391 - val_loss: 0.7201 - val_accuracy: 0.4971\n",
            "Epoch 11/200\n",
            "1/1 - 0s - loss: 0.7144 - accuracy: 0.5000 - val_loss: 0.7198 - val_accuracy: 0.4971\n",
            "Epoch 12/200\n",
            "1/1 - 0s - loss: 0.6855 - accuracy: 0.4531 - val_loss: 0.7196 - val_accuracy: 0.4971\n",
            "Epoch 13/200\n",
            "1/1 - 0s - loss: 0.7373 - accuracy: 0.5703 - val_loss: 0.7193 - val_accuracy: 0.4971\n",
            "Epoch 14/200\n",
            "1/1 - 0s - loss: 0.7245 - accuracy: 0.5234 - val_loss: 0.7190 - val_accuracy: 0.4971\n",
            "Epoch 15/200\n",
            "1/1 - 0s - loss: 0.7521 - accuracy: 0.5859 - val_loss: 0.7187 - val_accuracy: 0.4971\n",
            "Epoch 16/200\n",
            "1/1 - 0s - loss: 0.7297 - accuracy: 0.5469 - val_loss: 0.7184 - val_accuracy: 0.4971\n",
            "Epoch 17/200\n",
            "1/1 - 0s - loss: 0.7371 - accuracy: 0.5625 - val_loss: 0.7181 - val_accuracy: 0.4971\n",
            "Epoch 18/200\n",
            "1/1 - 0s - loss: 0.7395 - accuracy: 0.5625 - val_loss: 0.7178 - val_accuracy: 0.4971\n",
            "Epoch 19/200\n",
            "1/1 - 0s - loss: 0.7105 - accuracy: 0.5078 - val_loss: 0.7175 - val_accuracy: 0.4971\n",
            "Epoch 20/200\n",
            "1/1 - 0s - loss: 0.7246 - accuracy: 0.5000 - val_loss: 0.7172 - val_accuracy: 0.4971\n",
            "Epoch 21/200\n",
            "1/1 - 0s - loss: 0.6809 - accuracy: 0.4219 - val_loss: 0.7168 - val_accuracy: 0.4971\n",
            "Epoch 22/200\n",
            "1/1 - 0s - loss: 0.7286 - accuracy: 0.5312 - val_loss: 0.7165 - val_accuracy: 0.4971\n",
            "Epoch 23/200\n",
            "1/1 - 0s - loss: 0.7000 - accuracy: 0.4844 - val_loss: 0.7162 - val_accuracy: 0.4971\n",
            "Epoch 24/200\n",
            "1/1 - 0s - loss: 0.7168 - accuracy: 0.5234 - val_loss: 0.7159 - val_accuracy: 0.4971\n",
            "Epoch 25/200\n",
            "1/1 - 0s - loss: 0.7322 - accuracy: 0.5547 - val_loss: 0.7155 - val_accuracy: 0.4971\n",
            "Epoch 26/200\n",
            "1/1 - 0s - loss: 0.7273 - accuracy: 0.5234 - val_loss: 0.7152 - val_accuracy: 0.4971\n",
            "Epoch 27/200\n",
            "1/1 - 0s - loss: 0.7011 - accuracy: 0.5234 - val_loss: 0.7148 - val_accuracy: 0.4971\n",
            "Epoch 28/200\n",
            "1/1 - 0s - loss: 0.7104 - accuracy: 0.5312 - val_loss: 0.7143 - val_accuracy: 0.4971\n",
            "Epoch 29/200\n",
            "1/1 - 0s - loss: 0.6899 - accuracy: 0.4844 - val_loss: 0.7139 - val_accuracy: 0.4971\n",
            "Epoch 30/200\n",
            "1/1 - 0s - loss: 0.7291 - accuracy: 0.5547 - val_loss: 0.7134 - val_accuracy: 0.4971\n",
            "Epoch 31/200\n",
            "1/1 - 0s - loss: 0.6918 - accuracy: 0.4609 - val_loss: 0.7129 - val_accuracy: 0.4971\n",
            "Epoch 32/200\n",
            "1/1 - 0s - loss: 0.6832 - accuracy: 0.4453 - val_loss: 0.7123 - val_accuracy: 0.4974\n",
            "Epoch 33/200\n",
            "1/1 - 0s - loss: 0.6908 - accuracy: 0.4922 - val_loss: 0.7118 - val_accuracy: 0.4977\n",
            "Epoch 34/200\n",
            "1/1 - 0s - loss: 0.6739 - accuracy: 0.4531 - val_loss: 0.7112 - val_accuracy: 0.4992\n",
            "Epoch 35/200\n",
            "1/1 - 0s - loss: 0.7166 - accuracy: 0.5547 - val_loss: 0.7105 - val_accuracy: 0.5018\n",
            "Epoch 36/200\n",
            "1/1 - 0s - loss: 0.7022 - accuracy: 0.5156 - val_loss: 0.7099 - val_accuracy: 0.5047\n",
            "Epoch 37/200\n",
            "1/1 - 0s - loss: 0.7413 - accuracy: 0.6094 - val_loss: 0.7092 - val_accuracy: 0.5070\n",
            "Epoch 38/200\n",
            "1/1 - 0s - loss: 0.7088 - accuracy: 0.5156 - val_loss: 0.7084 - val_accuracy: 0.5112\n",
            "Epoch 39/200\n",
            "1/1 - 0s - loss: 0.7138 - accuracy: 0.5703 - val_loss: 0.7077 - val_accuracy: 0.5146\n",
            "Epoch 40/200\n",
            "1/1 - 0s - loss: 0.7138 - accuracy: 0.5703 - val_loss: 0.7069 - val_accuracy: 0.5214\n",
            "Epoch 41/200\n",
            "1/1 - 0s - loss: 0.7102 - accuracy: 0.5859 - val_loss: 0.7060 - val_accuracy: 0.5237\n",
            "Epoch 42/200\n",
            "1/1 - 0s - loss: 0.7146 - accuracy: 0.5703 - val_loss: 0.7052 - val_accuracy: 0.5305\n",
            "Epoch 43/200\n",
            "1/1 - 0s - loss: 0.7263 - accuracy: 0.5859 - val_loss: 0.7043 - val_accuracy: 0.5339\n",
            "Epoch 44/200\n",
            "1/1 - 0s - loss: 0.7358 - accuracy: 0.6016 - val_loss: 0.7034 - val_accuracy: 0.5359\n",
            "Epoch 45/200\n",
            "1/1 - 0s - loss: 0.7189 - accuracy: 0.5859 - val_loss: 0.7025 - val_accuracy: 0.5388\n",
            "Epoch 46/200\n",
            "1/1 - 0s - loss: 0.7093 - accuracy: 0.6328 - val_loss: 0.7015 - val_accuracy: 0.5430\n",
            "Epoch 47/200\n",
            "1/1 - 0s - loss: 0.7053 - accuracy: 0.5781 - val_loss: 0.7004 - val_accuracy: 0.5477\n",
            "Epoch 48/200\n",
            "1/1 - 0s - loss: 0.6989 - accuracy: 0.5469 - val_loss: 0.6993 - val_accuracy: 0.5526\n",
            "Epoch 49/200\n",
            "1/1 - 0s - loss: 0.6878 - accuracy: 0.5625 - val_loss: 0.6980 - val_accuracy: 0.5602\n",
            "Epoch 50/200\n",
            "1/1 - 0s - loss: 0.7133 - accuracy: 0.6094 - val_loss: 0.6967 - val_accuracy: 0.5677\n",
            "Epoch 51/200\n",
            "1/1 - 0s - loss: 0.7145 - accuracy: 0.6328 - val_loss: 0.6953 - val_accuracy: 0.5797\n",
            "Epoch 52/200\n",
            "1/1 - 0s - loss: 0.6733 - accuracy: 0.5781 - val_loss: 0.6938 - val_accuracy: 0.5911\n",
            "Epoch 53/200\n",
            "1/1 - 0s - loss: 0.6775 - accuracy: 0.5859 - val_loss: 0.6922 - val_accuracy: 0.6086\n",
            "Epoch 54/200\n",
            "1/1 - 0s - loss: 0.6764 - accuracy: 0.5938 - val_loss: 0.6905 - val_accuracy: 0.6258\n",
            "Epoch 55/200\n",
            "1/1 - 0s - loss: 0.6772 - accuracy: 0.5859 - val_loss: 0.6886 - val_accuracy: 0.6484\n",
            "Epoch 56/200\n",
            "1/1 - 0s - loss: 0.6871 - accuracy: 0.7188 - val_loss: 0.6866 - val_accuracy: 0.6672\n",
            "Epoch 57/200\n",
            "1/1 - 0s - loss: 0.7048 - accuracy: 0.7031 - val_loss: 0.6844 - val_accuracy: 0.6885\n",
            "Epoch 58/200\n",
            "1/1 - 0s - loss: 0.7091 - accuracy: 0.7188 - val_loss: 0.6822 - val_accuracy: 0.7065\n",
            "Epoch 59/200\n",
            "1/1 - 0s - loss: 0.7035 - accuracy: 0.6797 - val_loss: 0.6798 - val_accuracy: 0.7159\n",
            "Epoch 60/200\n",
            "1/1 - 0s - loss: 0.6973 - accuracy: 0.7344 - val_loss: 0.6774 - val_accuracy: 0.7203\n",
            "Epoch 61/200\n",
            "1/1 - 0s - loss: 0.6736 - accuracy: 0.7344 - val_loss: 0.6747 - val_accuracy: 0.7255\n",
            "Epoch 62/200\n",
            "1/1 - 0s - loss: 0.6636 - accuracy: 0.6562 - val_loss: 0.6719 - val_accuracy: 0.7393\n",
            "Epoch 63/200\n",
            "1/1 - 1s - loss: 0.6718 - accuracy: 0.6797 - val_loss: 0.6688 - val_accuracy: 0.7516\n",
            "Epoch 64/200\n",
            "1/1 - 0s - loss: 0.6934 - accuracy: 0.8047 - val_loss: 0.6658 - val_accuracy: 0.7563\n",
            "Epoch 65/200\n",
            "1/1 - 0s - loss: 0.7140 - accuracy: 0.6875 - val_loss: 0.6631 - val_accuracy: 0.7531\n",
            "Epoch 66/200\n",
            "1/1 - 0s - loss: 0.6548 - accuracy: 0.8125 - val_loss: 0.6601 - val_accuracy: 0.7526\n",
            "Epoch 67/200\n",
            "1/1 - 0s - loss: 0.6862 - accuracy: 0.7031 - val_loss: 0.6572 - val_accuracy: 0.7495\n",
            "Epoch 68/200\n",
            "1/1 - 0s - loss: 0.6852 - accuracy: 0.7500 - val_loss: 0.6543 - val_accuracy: 0.7492\n",
            "Epoch 69/200\n",
            "1/1 - 0s - loss: 0.6469 - accuracy: 0.7969 - val_loss: 0.6509 - val_accuracy: 0.7510\n",
            "Epoch 70/200\n",
            "1/1 - 0s - loss: 0.6537 - accuracy: 0.7188 - val_loss: 0.6470 - val_accuracy: 0.7589\n",
            "Epoch 71/200\n",
            "1/1 - 0s - loss: 0.6357 - accuracy: 0.8047 - val_loss: 0.6427 - val_accuracy: 0.7719\n",
            "Epoch 72/200\n",
            "1/1 - 0s - loss: 0.6510 - accuracy: 0.7188 - val_loss: 0.6383 - val_accuracy: 0.7854\n",
            "Epoch 73/200\n",
            "1/1 - 0s - loss: 0.6462 - accuracy: 0.8359 - val_loss: 0.6340 - val_accuracy: 0.7966\n",
            "Epoch 74/200\n",
            "1/1 - 0s - loss: 0.6200 - accuracy: 0.8359 - val_loss: 0.6303 - val_accuracy: 0.8102\n",
            "Epoch 75/200\n",
            "1/1 - 0s - loss: 0.6110 - accuracy: 0.8594 - val_loss: 0.6273 - val_accuracy: 0.8188\n",
            "Epoch 76/200\n",
            "1/1 - 0s - loss: 0.6029 - accuracy: 0.8281 - val_loss: 0.6250 - val_accuracy: 0.8198\n",
            "Epoch 77/200\n",
            "1/1 - 0s - loss: 0.6120 - accuracy: 0.8516 - val_loss: 0.6225 - val_accuracy: 0.8195\n",
            "Epoch 78/200\n",
            "1/1 - 0s - loss: 0.6185 - accuracy: 0.8203 - val_loss: 0.6206 - val_accuracy: 0.8198\n",
            "Epoch 79/200\n",
            "1/1 - 0s - loss: 0.6341 - accuracy: 0.7969 - val_loss: 0.6174 - val_accuracy: 0.8190\n",
            "Epoch 80/200\n",
            "1/1 - 0s - loss: 0.5918 - accuracy: 0.8203 - val_loss: 0.6143 - val_accuracy: 0.8182\n",
            "Epoch 81/200\n",
            "1/1 - 0s - loss: 0.6298 - accuracy: 0.8438 - val_loss: 0.6112 - val_accuracy: 0.8148\n",
            "Epoch 82/200\n",
            "1/1 - 0s - loss: 0.6195 - accuracy: 0.8438 - val_loss: 0.6091 - val_accuracy: 0.8091\n",
            "Epoch 83/200\n",
            "1/1 - 0s - loss: 0.6307 - accuracy: 0.8359 - val_loss: 0.6085 - val_accuracy: 0.7982\n",
            "Epoch 84/200\n",
            "1/1 - 0s - loss: 0.6499 - accuracy: 0.7266 - val_loss: 0.6086 - val_accuracy: 0.7888\n",
            "Epoch 85/200\n",
            "1/1 - 0s - loss: 0.5897 - accuracy: 0.8125 - val_loss: 0.6091 - val_accuracy: 0.7789\n",
            "Epoch 86/200\n",
            "1/1 - 0s - loss: 0.5750 - accuracy: 0.8672 - val_loss: 0.6080 - val_accuracy: 0.7802\n",
            "Epoch 87/200\n",
            "1/1 - 0s - loss: 0.5809 - accuracy: 0.8750 - val_loss: 0.6056 - val_accuracy: 0.7846\n",
            "Epoch 88/200\n",
            "1/1 - 0s - loss: 0.6252 - accuracy: 0.7734 - val_loss: 0.6029 - val_accuracy: 0.7932\n",
            "Epoch 89/200\n",
            "1/1 - 0s - loss: 0.5853 - accuracy: 0.8359 - val_loss: 0.6006 - val_accuracy: 0.8065\n",
            "Epoch 90/200\n",
            "1/1 - 0s - loss: 0.5581 - accuracy: 0.8438 - val_loss: 0.5999 - val_accuracy: 0.8078\n",
            "Epoch 91/200\n",
            "1/1 - 0s - loss: 0.5902 - accuracy: 0.8047 - val_loss: 0.5994 - val_accuracy: 0.8109\n",
            "Epoch 92/200\n",
            "1/1 - 0s - loss: 0.6053 - accuracy: 0.7891 - val_loss: 0.5997 - val_accuracy: 0.8164\n",
            "Epoch 93/200\n",
            "1/1 - 0s - loss: 0.6134 - accuracy: 0.8516 - val_loss: 0.5997 - val_accuracy: 0.8164\n",
            "Epoch 94/200\n",
            "1/1 - 0s - loss: 0.6326 - accuracy: 0.8594 - val_loss: 0.5981 - val_accuracy: 0.8172\n",
            "Epoch 95/200\n",
            "1/1 - 0s - loss: 0.5833 - accuracy: 0.8438 - val_loss: 0.5968 - val_accuracy: 0.8138\n",
            "Epoch 96/200\n",
            "1/1 - 0s - loss: 0.6155 - accuracy: 0.8281 - val_loss: 0.5959 - val_accuracy: 0.8141\n",
            "Epoch 97/200\n",
            "1/1 - 0s - loss: 0.5952 - accuracy: 0.8828 - val_loss: 0.5948 - val_accuracy: 0.8159\n",
            "Epoch 98/200\n",
            "1/1 - 0s - loss: 0.5905 - accuracy: 0.8281 - val_loss: 0.5940 - val_accuracy: 0.8172\n",
            "Epoch 99/200\n",
            "1/1 - 0s - loss: 0.5776 - accuracy: 0.8359 - val_loss: 0.5931 - val_accuracy: 0.8182\n",
            "Epoch 100/200\n",
            "1/1 - 0s - loss: 0.6027 - accuracy: 0.7969 - val_loss: 0.5923 - val_accuracy: 0.8151\n",
            "Epoch 101/200\n",
            "1/1 - 0s - loss: 0.5869 - accuracy: 0.8594 - val_loss: 0.5916 - val_accuracy: 0.8161\n",
            "Epoch 102/200\n",
            "1/1 - 0s - loss: 0.5694 - accuracy: 0.8203 - val_loss: 0.5909 - val_accuracy: 0.8156\n",
            "Epoch 103/200\n",
            "1/1 - 1s - loss: 0.5872 - accuracy: 0.7812 - val_loss: 0.5903 - val_accuracy: 0.8128\n",
            "Epoch 104/200\n",
            "1/1 - 0s - loss: 0.6021 - accuracy: 0.8125 - val_loss: 0.5900 - val_accuracy: 0.8112\n",
            "Epoch 105/200\n",
            "1/1 - 0s - loss: 0.6231 - accuracy: 0.7969 - val_loss: 0.5904 - val_accuracy: 0.8065\n",
            "Epoch 106/200\n",
            "1/1 - 0s - loss: 0.5894 - accuracy: 0.8359 - val_loss: 0.5904 - val_accuracy: 0.8049\n",
            "Epoch 107/200\n",
            "1/1 - 0s - loss: 0.6126 - accuracy: 0.8516 - val_loss: 0.5909 - val_accuracy: 0.7995\n",
            "Epoch 108/200\n",
            "1/1 - 0s - loss: 0.5837 - accuracy: 0.8516 - val_loss: 0.5905 - val_accuracy: 0.8000\n",
            "Epoch 109/200\n",
            "1/1 - 0s - loss: 0.6025 - accuracy: 0.7969 - val_loss: 0.5904 - val_accuracy: 0.8026\n",
            "Epoch 110/200\n",
            "1/1 - 0s - loss: 0.5839 - accuracy: 0.8281 - val_loss: 0.5895 - val_accuracy: 0.8055\n",
            "Epoch 111/200\n",
            "1/1 - 0s - loss: 0.5286 - accuracy: 0.8359 - val_loss: 0.5881 - val_accuracy: 0.8081\n",
            "Epoch 112/200\n",
            "1/1 - 0s - loss: 0.5669 - accuracy: 0.8516 - val_loss: 0.5866 - val_accuracy: 0.8161\n",
            "Epoch 113/200\n",
            "1/1 - 1s - loss: 0.5985 - accuracy: 0.7891 - val_loss: 0.5859 - val_accuracy: 0.8224\n",
            "Epoch 114/200\n",
            "1/1 - 0s - loss: 0.5998 - accuracy: 0.8281 - val_loss: 0.5853 - val_accuracy: 0.8258\n",
            "Epoch 115/200\n",
            "1/1 - 0s - loss: 0.5965 - accuracy: 0.8828 - val_loss: 0.5851 - val_accuracy: 0.8255\n",
            "Epoch 116/200\n",
            "1/1 - 0s - loss: 0.5765 - accuracy: 0.8672 - val_loss: 0.5848 - val_accuracy: 0.8247\n",
            "Epoch 117/200\n",
            "1/1 - 0s - loss: 0.5918 - accuracy: 0.8750 - val_loss: 0.5846 - val_accuracy: 0.8247\n",
            "Epoch 118/200\n",
            "1/1 - 0s - loss: 0.5969 - accuracy: 0.8750 - val_loss: 0.5844 - val_accuracy: 0.8245\n",
            "Epoch 119/200\n",
            "1/1 - 0s - loss: 0.5886 - accuracy: 0.8125 - val_loss: 0.5844 - val_accuracy: 0.8219\n",
            "Epoch 120/200\n",
            "1/1 - 0s - loss: 0.6010 - accuracy: 0.8047 - val_loss: 0.5842 - val_accuracy: 0.8227\n",
            "Epoch 121/200\n",
            "1/1 - 0s - loss: 0.5778 - accuracy: 0.8203 - val_loss: 0.5841 - val_accuracy: 0.8227\n",
            "Epoch 122/200\n",
            "1/1 - 0s - loss: 0.5579 - accuracy: 0.8750 - val_loss: 0.5836 - val_accuracy: 0.8247\n",
            "Epoch 123/200\n",
            "1/1 - 0s - loss: 0.5960 - accuracy: 0.8359 - val_loss: 0.5833 - val_accuracy: 0.8255\n",
            "Epoch 124/200\n",
            "1/1 - 0s - loss: 0.6191 - accuracy: 0.8516 - val_loss: 0.5830 - val_accuracy: 0.8276\n",
            "Epoch 125/200\n",
            "1/1 - 0s - loss: 0.5933 - accuracy: 0.8438 - val_loss: 0.5829 - val_accuracy: 0.8297\n",
            "Epoch 126/200\n",
            "1/1 - 0s - loss: 0.5816 - accuracy: 0.8047 - val_loss: 0.5829 - val_accuracy: 0.8302\n",
            "Epoch 127/200\n",
            "1/1 - 0s - loss: 0.6002 - accuracy: 0.8281 - val_loss: 0.5825 - val_accuracy: 0.8292\n",
            "Epoch 128/200\n",
            "1/1 - 0s - loss: 0.5717 - accuracy: 0.8750 - val_loss: 0.5823 - val_accuracy: 0.8281\n",
            "Epoch 129/200\n",
            "1/1 - 0s - loss: 0.5649 - accuracy: 0.8594 - val_loss: 0.5821 - val_accuracy: 0.8273\n",
            "Epoch 130/200\n",
            "1/1 - 0s - loss: 0.5965 - accuracy: 0.7812 - val_loss: 0.5820 - val_accuracy: 0.8276\n",
            "Epoch 131/200\n",
            "1/1 - 0s - loss: 0.5837 - accuracy: 0.8984 - val_loss: 0.5819 - val_accuracy: 0.8263\n",
            "Epoch 132/200\n",
            "1/1 - 0s - loss: 0.5410 - accuracy: 0.8594 - val_loss: 0.5818 - val_accuracy: 0.8250\n",
            "Epoch 133/200\n",
            "1/1 - 0s - loss: 0.5684 - accuracy: 0.8516 - val_loss: 0.5816 - val_accuracy: 0.8276\n",
            "Epoch 134/200\n",
            "1/1 - 0s - loss: 0.5877 - accuracy: 0.7344 - val_loss: 0.5815 - val_accuracy: 0.8227\n",
            "Epoch 135/200\n",
            "1/1 - 0s - loss: 0.5878 - accuracy: 0.8594 - val_loss: 0.5817 - val_accuracy: 0.8214\n",
            "Epoch 136/200\n",
            "1/1 - 1s - loss: 0.5861 - accuracy: 0.8203 - val_loss: 0.5821 - val_accuracy: 0.8195\n",
            "Epoch 137/200\n",
            "1/1 - 0s - loss: 0.5400 - accuracy: 0.8984 - val_loss: 0.5820 - val_accuracy: 0.8195\n",
            "Epoch 138/200\n",
            "1/1 - 0s - loss: 0.5907 - accuracy: 0.7969 - val_loss: 0.5818 - val_accuracy: 0.8206\n",
            "Epoch 139/200\n",
            "1/1 - 0s - loss: 0.6211 - accuracy: 0.8516 - val_loss: 0.5811 - val_accuracy: 0.8221\n",
            "Epoch 140/200\n",
            "1/1 - 0s - loss: 0.5606 - accuracy: 0.8750 - val_loss: 0.5806 - val_accuracy: 0.8279\n",
            "Epoch 141/200\n",
            "1/1 - 0s - loss: 0.5856 - accuracy: 0.8203 - val_loss: 0.5806 - val_accuracy: 0.8299\n",
            "Epoch 142/200\n",
            "1/1 - 0s - loss: 0.5593 - accuracy: 0.8438 - val_loss: 0.5813 - val_accuracy: 0.8354\n",
            "Epoch 143/200\n",
            "1/1 - 0s - loss: 0.5963 - accuracy: 0.8359 - val_loss: 0.5814 - val_accuracy: 0.8346\n",
            "Epoch 144/200\n",
            "1/1 - 0s - loss: 0.5856 - accuracy: 0.9062 - val_loss: 0.5815 - val_accuracy: 0.8365\n",
            "Epoch 145/200\n",
            "1/1 - 0s - loss: 0.5812 - accuracy: 0.8516 - val_loss: 0.5817 - val_accuracy: 0.8391\n",
            "Epoch 146/200\n",
            "1/1 - 0s - loss: 0.5734 - accuracy: 0.8828 - val_loss: 0.5811 - val_accuracy: 0.8383\n",
            "Epoch 147/200\n",
            "1/1 - 0s - loss: 0.5726 - accuracy: 0.8125 - val_loss: 0.5806 - val_accuracy: 0.8346\n",
            "Epoch 148/200\n",
            "1/1 - 0s - loss: 0.5921 - accuracy: 0.8672 - val_loss: 0.5801 - val_accuracy: 0.8320\n",
            "Epoch 149/200\n",
            "1/1 - 0s - loss: 0.5793 - accuracy: 0.8359 - val_loss: 0.5801 - val_accuracy: 0.8292\n",
            "Epoch 150/200\n",
            "1/1 - 0s - loss: 0.5843 - accuracy: 0.8828 - val_loss: 0.5803 - val_accuracy: 0.8268\n",
            "Epoch 151/200\n",
            "1/1 - 0s - loss: 0.5938 - accuracy: 0.7891 - val_loss: 0.5805 - val_accuracy: 0.8234\n",
            "Epoch 152/200\n",
            "1/1 - 0s - loss: 0.6051 - accuracy: 0.8203 - val_loss: 0.5809 - val_accuracy: 0.8206\n",
            "Epoch 153/200\n",
            "1/1 - 0s - loss: 0.5809 - accuracy: 0.8438 - val_loss: 0.5809 - val_accuracy: 0.8203\n",
            "Epoch 154/200\n",
            "1/1 - 0s - loss: 0.5637 - accuracy: 0.7812 - val_loss: 0.5801 - val_accuracy: 0.8234\n",
            "Epoch 155/200\n",
            "1/1 - 0s - loss: 0.5804 - accuracy: 0.8672 - val_loss: 0.5795 - val_accuracy: 0.8247\n",
            "Epoch 156/200\n",
            "1/1 - 0s - loss: 0.5815 - accuracy: 0.8359 - val_loss: 0.5792 - val_accuracy: 0.8318\n",
            "Epoch 157/200\n",
            "1/1 - 0s - loss: 0.5379 - accuracy: 0.8828 - val_loss: 0.5792 - val_accuracy: 0.8331\n",
            "Epoch 158/200\n",
            "1/1 - 0s - loss: 0.5818 - accuracy: 0.7891 - val_loss: 0.5802 - val_accuracy: 0.8398\n",
            "Epoch 159/200\n",
            "1/1 - 0s - loss: 0.5335 - accuracy: 0.8906 - val_loss: 0.5817 - val_accuracy: 0.8406\n",
            "Epoch 160/200\n",
            "1/1 - 0s - loss: 0.5615 - accuracy: 0.8750 - val_loss: 0.5825 - val_accuracy: 0.8401\n",
            "Epoch 161/200\n",
            "1/1 - 0s - loss: 0.6104 - accuracy: 0.8047 - val_loss: 0.5826 - val_accuracy: 0.8398\n",
            "Epoch 162/200\n",
            "1/1 - 0s - loss: 0.5726 - accuracy: 0.8203 - val_loss: 0.5814 - val_accuracy: 0.8393\n",
            "Epoch 163/200\n",
            "1/1 - 0s - loss: 0.5863 - accuracy: 0.8359 - val_loss: 0.5809 - val_accuracy: 0.8380\n",
            "Epoch 164/200\n",
            "1/1 - 0s - loss: 0.6133 - accuracy: 0.8828 - val_loss: 0.5793 - val_accuracy: 0.8372\n",
            "Epoch 165/200\n",
            "1/1 - 0s - loss: 0.5484 - accuracy: 0.8516 - val_loss: 0.5787 - val_accuracy: 0.8323\n",
            "Epoch 166/200\n",
            "1/1 - 0s - loss: 0.5802 - accuracy: 0.8672 - val_loss: 0.5784 - val_accuracy: 0.8318\n",
            "Epoch 167/200\n",
            "1/1 - 0s - loss: 0.5920 - accuracy: 0.8281 - val_loss: 0.5784 - val_accuracy: 0.8289\n",
            "Epoch 168/200\n",
            "1/1 - 0s - loss: 0.5461 - accuracy: 0.8281 - val_loss: 0.5785 - val_accuracy: 0.8281\n",
            "Epoch 169/200\n",
            "1/1 - 0s - loss: 0.5669 - accuracy: 0.8516 - val_loss: 0.5784 - val_accuracy: 0.8281\n",
            "Epoch 170/200\n",
            "1/1 - 0s - loss: 0.5870 - accuracy: 0.8828 - val_loss: 0.5785 - val_accuracy: 0.8266\n",
            "Epoch 171/200\n",
            "1/1 - 0s - loss: 0.5590 - accuracy: 0.8984 - val_loss: 0.5787 - val_accuracy: 0.8253\n",
            "Epoch 172/200\n",
            "1/1 - 0s - loss: 0.5843 - accuracy: 0.8203 - val_loss: 0.5786 - val_accuracy: 0.8253\n",
            "Epoch 173/200\n",
            "1/1 - 0s - loss: 0.5706 - accuracy: 0.8828 - val_loss: 0.5784 - val_accuracy: 0.8263\n",
            "Epoch 174/200\n",
            "1/1 - 0s - loss: 0.5686 - accuracy: 0.8672 - val_loss: 0.5782 - val_accuracy: 0.8271\n",
            "Epoch 175/200\n",
            "1/1 - 0s - loss: 0.6016 - accuracy: 0.7969 - val_loss: 0.5781 - val_accuracy: 0.8292\n",
            "Epoch 176/200\n",
            "1/1 - 0s - loss: 0.5598 - accuracy: 0.8359 - val_loss: 0.5780 - val_accuracy: 0.8305\n",
            "Epoch 177/200\n",
            "1/1 - 0s - loss: 0.5899 - accuracy: 0.8516 - val_loss: 0.5780 - val_accuracy: 0.8323\n",
            "Epoch 178/200\n",
            "1/1 - 0s - loss: 0.5770 - accuracy: 0.9141 - val_loss: 0.5780 - val_accuracy: 0.8352\n",
            "Epoch 179/200\n",
            "1/1 - 0s - loss: 0.5616 - accuracy: 0.8984 - val_loss: 0.5780 - val_accuracy: 0.8362\n",
            "Epoch 180/200\n",
            "1/1 - 0s - loss: 0.5695 - accuracy: 0.8672 - val_loss: 0.5781 - val_accuracy: 0.8362\n",
            "Epoch 181/200\n",
            "1/1 - 0s - loss: 0.6152 - accuracy: 0.8594 - val_loss: 0.5778 - val_accuracy: 0.8357\n",
            "Epoch 182/200\n",
            "1/1 - 0s - loss: 0.5535 - accuracy: 0.8750 - val_loss: 0.5777 - val_accuracy: 0.8354\n",
            "Epoch 183/200\n",
            "1/1 - 0s - loss: 0.5286 - accuracy: 0.8750 - val_loss: 0.5779 - val_accuracy: 0.8393\n",
            "Epoch 184/200\n",
            "1/1 - 0s - loss: 0.5772 - accuracy: 0.8906 - val_loss: 0.5777 - val_accuracy: 0.8362\n",
            "Epoch 185/200\n",
            "1/1 - 0s - loss: 0.5806 - accuracy: 0.9141 - val_loss: 0.5775 - val_accuracy: 0.8354\n",
            "Epoch 186/200\n",
            "1/1 - 0s - loss: 0.5904 - accuracy: 0.8594 - val_loss: 0.5777 - val_accuracy: 0.8297\n",
            "Epoch 187/200\n",
            "1/1 - 0s - loss: 0.5337 - accuracy: 0.9219 - val_loss: 0.5779 - val_accuracy: 0.8266\n",
            "Epoch 188/200\n",
            "1/1 - 0s - loss: 0.5802 - accuracy: 0.8047 - val_loss: 0.5782 - val_accuracy: 0.8250\n",
            "Epoch 189/200\n",
            "1/1 - 0s - loss: 0.5766 - accuracy: 0.8125 - val_loss: 0.5783 - val_accuracy: 0.8260\n",
            "Epoch 190/200\n",
            "1/1 - 0s - loss: 0.5208 - accuracy: 0.9141 - val_loss: 0.5784 - val_accuracy: 0.8268\n",
            "Epoch 191/200\n",
            "1/1 - 0s - loss: 0.5872 - accuracy: 0.8516 - val_loss: 0.5785 - val_accuracy: 0.8273\n",
            "Epoch 192/200\n",
            "1/1 - 0s - loss: 0.5727 - accuracy: 0.7812 - val_loss: 0.5784 - val_accuracy: 0.8299\n",
            "Epoch 193/200\n",
            "1/1 - 0s - loss: 0.5279 - accuracy: 0.9062 - val_loss: 0.5784 - val_accuracy: 0.8297\n",
            "Epoch 194/200\n",
            "1/1 - 0s - loss: 0.5878 - accuracy: 0.8359 - val_loss: 0.5784 - val_accuracy: 0.8310\n",
            "Epoch 195/200\n",
            "1/1 - 0s - loss: 0.5597 - accuracy: 0.7812 - val_loss: 0.5782 - val_accuracy: 0.8302\n",
            "Epoch 196/200\n",
            "1/1 - 0s - loss: 0.5711 - accuracy: 0.7750 - val_loss: 0.5777 - val_accuracy: 0.8323\n",
            "Epoch 197/200\n",
            "1/1 - 0s - loss: 0.5495 - accuracy: 0.8828 - val_loss: 0.5774 - val_accuracy: 0.8336\n",
            "Epoch 198/200\n",
            "1/1 - 0s - loss: 0.5715 - accuracy: 0.8828 - val_loss: 0.5771 - val_accuracy: 0.8346\n",
            "Epoch 199/200\n",
            "1/1 - 0s - loss: 0.5434 - accuracy: 0.8984 - val_loss: 0.5769 - val_accuracy: 0.8354\n",
            "Epoch 200/200\n",
            "1/1 - 0s - loss: 0.5818 - accuracy: 0.8438 - val_loss: 0.5767 - val_accuracy: 0.8336\n"
          ],
          "name": "stdout"
        },
        {
          "output_type": "execute_result",
          "data": {
            "text/plain": [
              "<tensorflow.python.keras.callbacks.History at 0x7fd31481fe10>"
            ]
          },
          "metadata": {
            "tags": []
          },
          "execution_count": 95
        }
      ]
    },
    {
      "cell_type": "code",
      "metadata": {
        "id": "VOeD9D2baSw8",
        "colab_type": "code",
        "colab": {
          "base_uri": "https://localhost:8080/",
          "height": 50
        },
        "outputId": "f1c66f9a-a821-4ad7-8792-98bf54b417c9"
      },
      "source": [
        "test_negative_review = [\"This movie is terrible. I hated it.\"]\n",
        "test_positive_review = [\"This movie is marvelous. I loved it.\"]\n",
        "prediction = model.predict(test_negative_review)\n",
        "print(prediction)\n",
        "prediction = model.predict(test_positive_review)\n",
        "print(prediction)"
      ],
      "execution_count": 96,
      "outputs": [
        {
          "output_type": "stream",
          "text": [
            "[[0.00732741]]\n",
            "[[0.973032]]\n"
          ],
          "name": "stdout"
        }
      ]
    },
    {
      "cell_type": "code",
      "metadata": {
        "id": "mjQXIehfk8h4",
        "colab_type": "code",
        "colab": {}
      },
      "source": [
        ""
      ],
      "execution_count": null,
      "outputs": []
    }
  ]
}